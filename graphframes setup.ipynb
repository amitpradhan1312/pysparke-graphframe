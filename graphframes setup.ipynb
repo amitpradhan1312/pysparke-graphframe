{
 "cells": [
  {
   "cell_type": "code",
   "execution_count": 1,
   "id": "modified-reach",
   "metadata": {},
   "outputs": [],
   "source": [
    "import findspark\n",
    "findspark.init()\n",
    "\n",
    "import pyspark\n",
    "from pyspark.sql import SparkSession\n",
    "\n",
    "spark = SparkSession.builder.getOrCreate()"
   ]
  },
  {
   "cell_type": "code",
   "execution_count": 2,
   "id": "ahead-variety",
   "metadata": {},
   "outputs": [],
   "source": [
    "data = spark.read.options(header='True', inferSchema='True', delimiter=',').format(\"csv\").load('/Users/wanderer/Downloads/training_data_assignment.csv')"
   ]
  },
  {
   "cell_type": "code",
   "execution_count": 3,
   "id": "settled-attribute",
   "metadata": {},
   "outputs": [
    {
     "name": "stdout",
     "output_type": "stream",
     "text": [
      "+-------+---+--------------------+\n",
      "|vfactor|idx|                 seq|\n",
      "+-------+---+--------------------+\n",
      "|      V|149|MKQFLDFLPLVVFFAFY...|\n",
      "|      V|150|MEKYFGEKQERFSFRKL...|\n",
      "|      V|151|MHPNYYLSPLAVAIALG...|\n",
      "|      V|152|MKMRLVAAAAMGLAMST...|\n",
      "|      V|153|MKNIILSTLVITTSVLV...|\n",
      "|      V|155|MDSIHGHYHIQLSNYSA...|\n",
      "|      V|156|MKKVQRQMKWLFLAASI...|\n",
      "|      V|157|MKIHIVQKGDTLWKIAK...|\n",
      "|      V|158|MKISSFISTSLPLPTSV...|\n",
      "|      V|159|MMNLSLSDLHRQVSRLV...|\n",
      "|      V|160|MSALITHDRSTPVTGSL...|\n",
      "|      V|161|MRKKQKLPFDKLAIALM...|\n",
      "|      V|162|MNRIYSLRYSAVARGFI...|\n",
      "|      V|163|MDFLINKKLKIFITLME...|\n",
      "|      V|164|MNNRMLSFPSMLFLLAF...|\n",
      "|      N|165|MSAVALPRVSGGHDEHG...|\n",
      "|      V|165|MNKIYYLKYCHITKSLI...|\n",
      "|      N|166|MTHTVPQNMKAAVMHNT...|\n",
      "|      V|166|MSNVRHHEGSVTIEISN...|\n",
      "|      N|167|MAIPAFGLGTFRLKDDV...|\n",
      "+-------+---+--------------------+\n",
      "only showing top 20 rows\n",
      "\n"
     ]
    }
   ],
   "source": [
    "data.show()"
   ]
  },
  {
   "cell_type": "code",
   "execution_count": null,
   "id": "involved-factory",
   "metadata": {},
   "outputs": [
    {
     "name": "stdout",
     "output_type": "stream",
     "text": [
      "Python 3.9.1 (default, Jan 30 2021, 15:51:59) \n",
      "[Clang 12.0.0 (clang-1200.0.32.29)] on darwin\n",
      "Type \"help\", \"copyright\", \"credits\" or \"license\" for more information.\n",
      "21/02/02 02:49:17 WARN Utils: Your hostname, Aryas-MacBook-Air.local resolves to a loopback address: 127.0.0.1; using 192.168.1.200 instead (on interface en0)\n",
      "21/02/02 02:49:17 WARN Utils: Set SPARK_LOCAL_IP if you need to bind to another address\n",
      "Ivy Default Cache set to: /Users/wanderer/.ivy2/cache\n",
      "The jars for the packages stored in: /Users/wanderer/.ivy2/jars\n",
      ":: loading settings :: url = jar:file:/usr/local/Cellar/apache-spark/3.0.1/libexec/jars/ivy-2.4.0.jar!/org/apache/ivy/core/settings/ivysettings.xml\n",
      "graphframes#graphframes added as a dependency\n",
      ":: resolving dependencies :: org.apache.spark#spark-submit-parent-808c0b0c-ef84-4d9f-8a30-75cd5c5d0ad0;1.0\n",
      "\tconfs: [default]\n",
      "\tfound graphframes#graphframes;0.5.0-spark2.1-s_2.11 in spark-packages\n",
      "\tfound com.typesafe.scala-logging#scala-logging-api_2.11;2.1.2 in central\n",
      "\tfound com.typesafe.scala-logging#scala-logging-slf4j_2.11;2.1.2 in central\n",
      "\tfound org.scala-lang#scala-reflect;2.11.0 in central\n",
      "\tfound org.slf4j#slf4j-api;1.7.7 in central\n",
      ":: resolution report :: resolve 391ms :: artifacts dl 15ms\n",
      "\t:: modules in use:\n",
      "\tcom.typesafe.scala-logging#scala-logging-api_2.11;2.1.2 from central in [default]\n",
      "\tcom.typesafe.scala-logging#scala-logging-slf4j_2.11;2.1.2 from central in [default]\n",
      "\tgraphframes#graphframes;0.5.0-spark2.1-s_2.11 from spark-packages in [default]\n",
      "\torg.scala-lang#scala-reflect;2.11.0 from central in [default]\n",
      "\torg.slf4j#slf4j-api;1.7.7 from central in [default]\n",
      "\t---------------------------------------------------------------------\n",
      "\t|                  |            modules            ||   artifacts   |\n",
      "\t|       conf       | number| search|dwnlded|evicted|| number|dwnlded|\n",
      "\t---------------------------------------------------------------------\n",
      "\t|      default     |   5   |   0   |   0   |   0   ||   5   |   0   |\n",
      "\t---------------------------------------------------------------------\n",
      ":: retrieving :: org.apache.spark#spark-submit-parent-808c0b0c-ef84-4d9f-8a30-75cd5c5d0ad0\n",
      "\tconfs: [default]\n",
      "\t0 artifacts copied, 5 already retrieved (0kB/16ms)\n",
      "21/02/02 02:49:18 WARN NativeCodeLoader: Unable to load native-hadoop library for your platform... using builtin-java classes where applicable\n",
      "Using Spark's default log4j profile: org/apache/spark/log4j-defaults.properties\n",
      "Setting default log level to \"WARN\".\n",
      "To adjust logging level use sc.setLogLevel(newLevel). For SparkR, use setLogLevel(newLevel).\n",
      "21/02/02 02:49:20 WARN Utils: Service 'SparkUI' could not bind on port 4040. Attempting port 4041.\n",
      "21/02/02 02:49:20 WARN Utils: Service 'SparkUI' could not bind on port 4041. Attempting port 4042.\n",
      "21/02/02 02:49:20 WARN Utils: Service 'SparkUI' could not bind on port 4042. Attempting port 4043.\n",
      "Welcome to\n",
      "      ____              __\n",
      "     / __/__  ___ _____/ /__\n",
      "    _\\ \\/ _ \\/ _ `/ __/  '_/\n",
      "   /__ / .__/\\_,_/_/ /_/\\_\\   version 3.0.1\n",
      "      /_/\n",
      "\n",
      "Using Python version 3.9.1 (default, Jan 30 2021 15:51:59)\n",
      "SparkSession available as 'spark'.\n",
      "\u001b[?2004h>>> "
     ]
    }
   ],
   "source": [
    "!pyspark --packages graphframes:graphframes:0.5.0-spark2.1-s_2.11"
   ]
  },
  {
   "cell_type": "code",
   "execution_count": null,
   "id": "public-defensive",
   "metadata": {},
   "outputs": [],
   "source": [
    "from graphframes import *"
   ]
  }
 ],
 "metadata": {
  "kernelspec": {
   "display_name": "Python 3",
   "language": "python",
   "name": "python3"
  },
  "language_info": {
   "codemirror_mode": {
    "name": "ipython",
    "version": 3
   },
   "file_extension": ".py",
   "mimetype": "text/x-python",
   "name": "python",
   "nbconvert_exporter": "python",
   "pygments_lexer": "ipython3",
   "version": "3.9.1"
  }
 },
 "nbformat": 4,
 "nbformat_minor": 5
}
